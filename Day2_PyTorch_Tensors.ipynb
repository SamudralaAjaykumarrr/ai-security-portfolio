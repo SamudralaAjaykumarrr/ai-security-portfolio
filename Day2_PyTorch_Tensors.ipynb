{
  "nbformat": 4,
  "nbformat_minor": 0,
  "metadata": {
    "colab": {
      "provenance": [],
      "authorship_tag": "ABX9TyMms1Qeq5j5+/8s7rBREshE",
      "include_colab_link": true
    },
    "kernelspec": {
      "name": "python3",
      "display_name": "Python 3"
    },
    "language_info": {
      "name": "python"
    }
  },
  "cells": [
    {
      "cell_type": "markdown",
      "metadata": {
        "id": "view-in-github",
        "colab_type": "text"
      },
      "source": [
        "<a href=\"https://colab.research.google.com/github/SamudralaAjaykumarrr/ai-security-portfolio/blob/main/Day2_PyTorch_Tensors.ipynb\" target=\"_parent\"><img src=\"https://colab.research.google.com/assets/colab-badge.svg\" alt=\"Open In Colab\"/></a>"
      ]
    },
    {
      "cell_type": "code",
      "execution_count": 1,
      "metadata": {
        "colab": {
          "base_uri": "https://localhost:8080/"
        },
        "id": "1KW0Sh5LgPsB",
        "outputId": "ac3a72db-2dfd-44a9-fd53-eb2c64b210ae"
      },
      "outputs": [
        {
          "output_type": "stream",
          "name": "stdout",
          "text": [
            "PyTorch version: 2.8.0+cu126\n",
            "Using device: cpu\n"
          ]
        }
      ],
      "source": [
        "import torch\n",
        "print(\"PyTorch version:\", torch.__version__)\n",
        "print(\"Using device:\", \"cuda\" if torch.cuda.is_available() else \"cpu\")\n"
      ]
    },
    {
      "cell_type": "code",
      "source": [
        "x = torch.tensor([1, 2, 3, 4, 5])\n",
        "print(\"x:\", x)\n",
        "\n",
        "y = torch.zeros(2, 3)\n",
        "print(\"y (zeros):\\n\", y)\n",
        "\n",
        "z = torch.rand(2, 3)\n",
        "print(\"z (random):\\n\", z)\n"
      ],
      "metadata": {
        "colab": {
          "base_uri": "https://localhost:8080/"
        },
        "id": "t-BokZm1gqhw",
        "outputId": "8d59763c-2dd8-422c-a58b-222b54371f0b"
      },
      "execution_count": 2,
      "outputs": [
        {
          "output_type": "stream",
          "name": "stdout",
          "text": [
            "x: tensor([1, 2, 3, 4, 5])\n",
            "y (zeros):\n",
            " tensor([[0., 0., 0.],\n",
            "        [0., 0., 0.]])\n",
            "z (random):\n",
            " tensor([[0.4356, 0.0211, 0.6228],\n",
            "        [0.7622, 0.6078, 0.8964]])\n"
          ]
        }
      ]
    },
    {
      "cell_type": "code",
      "source": [
        "print(\"x + 10:\", x + 10)\n",
        "print(\"x * 2:\", x * 2)\n",
        "print(\"x * [5,4,3,2,1]:\", x * torch.tensor([5,4,3,2,1]))\n"
      ],
      "metadata": {
        "colab": {
          "base_uri": "https://localhost:8080/"
        },
        "id": "oGU4gh70g-H4",
        "outputId": "879084c2-0040-4785-c048-592d5dba97e5"
      },
      "execution_count": 3,
      "outputs": [
        {
          "output_type": "stream",
          "name": "stdout",
          "text": [
            "x + 10: tensor([11, 12, 13, 14, 15])\n",
            "x * 2: tensor([ 2,  4,  6,  8, 10])\n",
            "x * [5,4,3,2,1]: tensor([5, 8, 9, 8, 5])\n"
          ]
        }
      ]
    },
    {
      "cell_type": "code",
      "source": [
        "x_reshaped = x.view(5, 1)\n",
        "print(\"Reshaped x:\\n\", x_reshaped)\n"
      ],
      "metadata": {
        "colab": {
          "base_uri": "https://localhost:8080/"
        },
        "id": "NJVh8ywYhL9w",
        "outputId": "c17b65d5-2a3d-4197-e006-8b6cfec80cfe"
      },
      "execution_count": 4,
      "outputs": [
        {
          "output_type": "stream",
          "name": "stdout",
          "text": [
            "Reshaped x:\n",
            " tensor([[1],\n",
            "        [2],\n",
            "        [3],\n",
            "        [4],\n",
            "        [5]])\n"
          ]
        }
      ]
    },
    {
      "cell_type": "code",
      "source": [
        "device = \"cuda\" if torch.cuda.is_available() else \"cpu\"\n",
        "x_gpu = x.to(device)\n",
        "print(\"Tensor on device:\", x_gpu)\n"
      ],
      "metadata": {
        "colab": {
          "base_uri": "https://localhost:8080/"
        },
        "id": "f_Q1Zv5ahTi1",
        "outputId": "e8f459de-999e-4774-9357-2c830c42d0c7"
      },
      "execution_count": 5,
      "outputs": [
        {
          "output_type": "stream",
          "name": "stdout",
          "text": [
            "Tensor on device: tensor([1, 2, 3, 4, 5])\n"
          ]
        }
      ]
    }
  ]
}